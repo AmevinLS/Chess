{
 "cells": [
  {
   "cell_type": "code",
   "execution_count": null,
   "metadata": {},
   "outputs": [],
   "source": []
  }
 ],
 "metadata": {
  "kernelspec": {
   "display_name": "Python 3.7.7 ('niki_test')",
   "language": "python",
   "name": "python3"
  },
  "language_info": {
   "name": "python",
   "version": "3.7.7"
  },
  "orig_nbformat": 4,
  "vscode": {
   "interpreter": {
    "hash": "35f50dcb7470b49f58095827a1d484d75a790ecb17544ad39845db892ea27a43"
   }
  }
 },
 "nbformat": 4,
 "nbformat_minor": 2
}
