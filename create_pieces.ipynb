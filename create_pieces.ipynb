{
 "cells": [
  {
   "cell_type": "code",
   "execution_count": 26,
   "metadata": {},
   "outputs": [],
   "source": [
    "from PIL import Image"
   ]
  },
  {
   "cell_type": "code",
   "execution_count": 27,
   "metadata": {},
   "outputs": [],
   "source": [
    "im = Image.open(\"pieces_pngs/chess_pieces.png\")\n",
    "X, Y = im.size\n",
    "step_x = X / 6\n",
    "step_y = Y / 2"
   ]
  },
  {
   "cell_type": "code",
   "execution_count": 28,
   "metadata": {},
   "outputs": [],
   "source": [
    "pieces = []\n",
    "for i in range(2):\n",
    "    for j in range(6):\n",
    "        x, y = step_x * j, step_y * i\n",
    "        piece = im.crop((x, y, x+step_x, y+step_y))\n",
    "        pieces.append(piece)\n",
    "pieces = [piece.resize((100, 100)) for piece in pieces]"
   ]
  },
  {
   "cell_type": "code",
   "execution_count": 29,
   "metadata": {},
   "outputs": [],
   "source": [
    "colors = [\"white\", \"black\"]\n",
    "names = [\"king\", \"queen\", \"bishop\", \"knight\", \"rook\", \"pawn\"]\n",
    "for i in range(2):\n",
    "    for j in range(6):\n",
    "        pieces[i*6+j].save(f\"resources/{colors[i]}_{names[j]}.png\")"
   ]
  },
  {
   "cell_type": "code",
   "execution_count": null,
   "metadata": {},
   "outputs": [],
   "source": []
  }
 ],
 "metadata": {
  "kernelspec": {
   "display_name": "Python 3.7.7 ('niki_test')",
   "language": "python",
   "name": "python3"
  },
  "language_info": {
   "codemirror_mode": {
    "name": "ipython",
    "version": 3
   },
   "file_extension": ".py",
   "mimetype": "text/x-python",
   "name": "python",
   "nbconvert_exporter": "python",
   "pygments_lexer": "ipython3",
   "version": "3.7.7"
  },
  "orig_nbformat": 4,
  "vscode": {
   "interpreter": {
    "hash": "35f50dcb7470b49f58095827a1d484d75a790ecb17544ad39845db892ea27a43"
   }
  }
 },
 "nbformat": 4,
 "nbformat_minor": 2
}
