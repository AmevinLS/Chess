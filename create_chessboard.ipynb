{
 "cells": [
  {
   "cell_type": "code",
   "execution_count": 40,
   "metadata": {},
   "outputs": [],
   "source": [
    "from PIL import Image, ImageDraw"
   ]
  },
  {
   "cell_type": "code",
   "execution_count": 41,
   "metadata": {},
   "outputs": [],
   "source": [
    "WIDTH = HEIGHT = 800\n",
    "SQ_SIZE = WIDTH / 8\n",
    "LIGHT_COLOR = (235, 236, 208)\n",
    "DARK_COLOR = (119, 149, 86)"
   ]
  },
  {
   "cell_type": "code",
   "execution_count": 42,
   "metadata": {},
   "outputs": [],
   "source": [
    "im = Image.new(\"RGB\", size=(WIDTH, HEIGHT), color=LIGHT_COLOR)\n",
    "d = ImageDraw.Draw(im)\n",
    "\n",
    "for i in range(8):\n",
    "    for j in range(8):\n",
    "        if (i+j) % 2 == 0:\n",
    "            continue\n",
    "        x1, y1 = i*SQ_SIZE, j*SQ_SIZE\n",
    "        d.rectangle([x1, y1, x1+SQ_SIZE, y1+SQ_SIZE], fill=DARK_COLOR)"
   ]
  },
  {
   "cell_type": "code",
   "execution_count": 43,
   "metadata": {},
   "outputs": [],
   "source": [
    "im.show()"
   ]
  },
  {
   "cell_type": "code",
   "execution_count": null,
   "metadata": {},
   "outputs": [],
   "source": []
  }
 ],
 "metadata": {
  "kernelspec": {
   "display_name": "Python 3.7.7 ('niki_test')",
   "language": "python",
   "name": "python3"
  },
  "language_info": {
   "codemirror_mode": {
    "name": "ipython",
    "version": 3
   },
   "file_extension": ".py",
   "mimetype": "text/x-python",
   "name": "python",
   "nbconvert_exporter": "python",
   "pygments_lexer": "ipython3",
   "version": "3.7.7"
  },
  "orig_nbformat": 4,
  "vscode": {
   "interpreter": {
    "hash": "35f50dcb7470b49f58095827a1d484d75a790ecb17544ad39845db892ea27a43"
   }
  }
 },
 "nbformat": 4,
 "nbformat_minor": 2
}
